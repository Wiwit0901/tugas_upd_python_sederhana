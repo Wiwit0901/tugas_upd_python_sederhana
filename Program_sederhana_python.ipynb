{
 "cells": [
  {
   "cell_type": "code",
   "execution_count": 1,
   "metadata": {},
   "outputs": [
    {
     "name": "stdout",
     "output_type": "stream",
     "text": [
      "--selain itu jika--\n",
      "--contoh 1, negatif, nol dan bulat menggunakan elif--\n",
      "Nol\n",
      "--contoh 2, K, BK, Pas--\n",
      "Pas\n",
      "--contoh 3, Nilai A, B, C--\n",
      "A\n",
      "--contoh 3, Nilai A, B, C--\n",
      "D\n"
     ]
    }
   ],
   "source": [
    "print(\"--selain itu jika--\")\n",
    "\n",
    "print(\"--contoh 1, negatif, nol dan bulat menggunakan elif--\")\n",
    "d = 0\n",
    "if d<0:\n",
    "    print(\"Negatif\")\n",
    "elif d >0:\n",
    "    print(\"Positif\")\n",
    "else:\n",
    "    print(\"Nol\")\n",
    "\n",
    "\n",
    "\n",
    "\n",
    "\n",
    "\n",
    "\n",
    "\n",
    "\n",
    "\n",
    "\n",
    "\n",
    "print(\"--contoh 2, K, BK, Pas--\")\n",
    "nilai = 75\n",
    "if nilai > 75:\n",
    "    print(\"Kompeten\")\n",
    "elif nilai < 75:\n",
    "    print(\"Belum Kompeten\")\n",
    "else:\n",
    "    print(\"Pas\")\n",
    "\n",
    "\n",
    "\n",
    "\n",
    "print(\"--contoh 3, Nilai A, B, C--\")\n",
    "n = 1000\n",
    "if n >= 80: #80-100\n",
    "    print(\"A\")\n",
    "elif n >=75: #75-79\n",
    "    print(\"B\")\n",
    "elif n >=70: #70-74\n",
    "    print(\"C\")\n",
    "else: #<=69\n",
    "    print(\"D\")\n",
    "\n",
    "\n",
    "\n",
    "\n",
    "\n",
    "\n",
    "\n",
    "\n",
    "print(\"--contoh 3, Nilai A, B, C--\")\n",
    "nil = 69\n",
    "if nil >= 80: #80-100\n",
    "    print(\"A\")\n",
    "elif nil >=75: #75-79\n",
    "    print(\"B\")\n",
    "elif nil >=70: #70-74\n",
    "    print(\"C\")\n",
    "elif nil <=69:\n",
    "    print(\"D\")\n"
   ]
  },
  {
   "cell_type": "code",
   "execution_count": 2,
   "metadata": {},
   "outputs": [
    {
     "name": "stdout",
     "output_type": "stream",
     "text": [
      "--if berarti jika maka--\n",
      "Kamu Kompeten\n",
      "---Penggunaan IF----\n",
      "Tidak Sama\n"
     ]
    }
   ],
   "source": [
    "print(\"--if berarti jika maka--\")\n",
    "\n",
    "a = 76\n",
    "if a >= 75:\n",
    "    print(\"Kamu Kompeten\")\n",
    "else:\n",
    "    print(\"Kamu Belum Kompeten\")\n",
    "\n",
    "\n",
    "print(\"---Penggunaan IF----\")\n",
    "n = 10\n",
    "if n == 1:\n",
    "    print(\"Nilai Sama\")\n",
    "else:\n",
    "    print(\"Tidak Sama\")"
   ]
  },
  {
   "cell_type": "code",
   "execution_count": 3,
   "metadata": {},
   "outputs": [
    {
     "name": "stdout",
     "output_type": "stream",
     "text": [
      "--selain itu/lawan dari if--\n",
      "--contoh 1, kompeten dan belum kompeten--\n",
      "Kamu Belum Kompeten\n",
      "--contoh 2, benar salah--\n",
      "Salah\n",
      "--contoh 3, ganjil genap--\n",
      "Ganjil\n",
      "--contoh 4, negatif, nol dan bulat--\n",
      "Negatif\n",
      "Negatif\n",
      "--contoh 5, Libur dan Masuk--\n",
      "Libur\n"
     ]
    }
   ],
   "source": [
    "print(\"--selain itu/lawan dari if--\")\n",
    "\n",
    "print(\"--contoh 1, kompeten dan belum kompeten--\")\n",
    "a = 72\n",
    "if a>=75:\n",
    "    print(\"Kamu Kompeten\")\n",
    "else:\n",
    "    print(\"Kamu Belum Kompeten\")\n",
    "\n",
    "print(\"--contoh 2, benar salah--\")\n",
    "b=0\n",
    "if b==1:\n",
    "    print(\"Benar\")\n",
    "if b==0:\n",
    "    print(\"Salah\")\n",
    "\n",
    "\n",
    "\n",
    "\n",
    "\n",
    "print(\"--contoh 3, ganjil genap--\")\n",
    "c = 1\n",
    "if c%2 == 0:\n",
    "    print(\"Genap\")\n",
    "else:\n",
    "    print(\"Ganjil\")\n",
    "\n",
    "\n",
    "\n",
    "\n",
    "\n",
    "\n",
    "\n",
    "print(\"--contoh 4, negatif, nol dan bulat--\")\n",
    "e = -3\n",
    "if e<0:\n",
    "    print(\"Negatif\")\n",
    "else:\n",
    "    print(\"Positif\")\n",
    "\n",
    "d = -100\n",
    "if d<0:\n",
    "    print(\"Negatif\")\n",
    "if d==0:\n",
    "    print(\"Nol\")\n",
    "if d>0:\n",
    "    print(\"Positif\")\n",
    "\n",
    "print(\"--contoh 5, Libur dan Masuk--\")\n",
    "hari = \"merah\"\n",
    "if hari == \"merah\":\n",
    "    print(\"Libur\")\n",
    "else:\n",
    "    print(\"Masuk\")"
   ]
  },
  {
   "cell_type": "code",
   "execution_count": 4,
   "metadata": {},
   "outputs": [
    {
     "name": "stdout",
     "output_type": "stream",
     "text": [
      "Selamat Datang\n",
      "Python\n"
     ]
    }
   ],
   "source": [
    "#cetak pada python\n",
    "print(\"Selamat Datang\") #cetak selamat datang\n",
    "#tanda tagar menandakan penggunaan komentar pada python\n",
    "#kita bisa membedakan penggunaan komentar pada setiap bahasa pemograman\n",
    "\n",
    "\"\"\"komentar jg\"\"\"\n",
    "\n",
    "\"\"\"kutip 3 juga sebagai komentar\"\"\"\n",
    "\n",
    "print(\"Python\")"
   ]
  },
  {
   "cell_type": "code",
   "execution_count": 5,
   "metadata": {},
   "outputs": [
    {
     "name": "stdout",
     "output_type": "stream",
     "text": [
      "----For----\n",
      "1\n",
      "2\n",
      "3\n",
      "----While----\n",
      "1\n",
      "2\n",
      "3\n",
      "4\n",
      "5\n",
      "6\n",
      "7\n",
      "8\n",
      "9\n"
     ]
    }
   ],
   "source": [
    "print(\"----For----\")\n",
    "for a in [1,2,3]:\n",
    "    print(a)\n",
    "\n",
    "print(\"----While----\")\n",
    "b = 1\n",
    "while b < 10:\n",
    "    print(b)\n",
    "    b+=1"
   ]
  },
  {
   "cell_type": "code",
   "execution_count": 6,
   "metadata": {},
   "outputs": [
    {
     "name": "stdout",
     "output_type": "stream",
     "text": [
      "--contoh 3, Nilai A, B, C--\n",
      "D\n"
     ]
    }
   ],
   "source": [
    "print(\"--contoh 3, Nilai A, B, C--\")\n",
    "n = 55\n",
    "if n >= 80: #80-100\n",
    "    print(\"A\")\n",
    "elif n >=75: #75-79\n",
    "    print(\"B\")\n",
    "elif n >=70: #70-74\n",
    "    print(\"C\")\n",
    "else: #<=69\n",
    "    print(\"D\")"
   ]
  },
  {
   "cell_type": "code",
   "execution_count": 7,
   "metadata": {},
   "outputs": [
    {
     "name": "stdout",
     "output_type": "stream",
     "text": [
      "--Operator Matematika--\n",
      "Tambah (+) 12\n",
      "Kali (*) 24\n",
      "Bagi (/) 1.6\n",
      "Kurang (-) 13\n",
      "Pangkat (+) 4\n",
      "Mod (%) 0\n",
      "--Operator Pembanding--\n",
      "Sama Dengan (==)\n",
      "Lebih Besar (>)\n",
      "Lebih Kecil (<)\n",
      "Lebih Besar Sama Dengan (>=)\n",
      "Lebih Kecil Sama Dengan(<=)\n",
      "Tidak Sama Dengan(!=)\n",
      "--Operator Logika--\n",
      "Not (not=Bukan)\n",
      "And (and=Semua Kondisi Terpenuhi)\n",
      "Or (or=Salah Satu Kondisi Terpenuhi)\n"
     ]
    }
   ],
   "source": [
    "print(\"--Operator Matematika--\")\n",
    "print(\"Tambah (+)\", 10+2)\n",
    "print(\"Kali (*)\", 12*2)\n",
    "print(\"Bagi (/)\", 8/5)\n",
    "print(\"Kurang (-)\", 14-1)\n",
    "print(\"Pangkat (+)\", 2**2)\n",
    "print(\"Mod (%)\", 6%2)\n",
    "\n",
    "print(\"--Operator Pembanding--\")\n",
    "print(\"Sama Dengan (==)\")\n",
    "print(\"Lebih Besar (>)\")\n",
    "print(\"Lebih Kecil (<)\")\n",
    "print(\"Lebih Besar Sama Dengan (>=)\")\n",
    "print(\"Lebih Kecil Sama Dengan(<=)\")\n",
    "print(\"Tidak Sama Dengan(!=)\")\n",
    "\n",
    "print(\"--Operator Logika--\")\n",
    "print(\"Not (not=Bukan)\")\n",
    "print(\"And (and=Semua Kondisi Terpenuhi)\")\n",
    "print(\"Or (or=Salah Satu Kondisi Terpenuhi)\")"
   ]
  },
  {
   "cell_type": "code",
   "execution_count": 8,
   "metadata": {},
   "outputs": [
    {
     "name": "stdout",
     "output_type": "stream",
     "text": [
      "Selamat Datang\n",
      "Belajar Bahasa Pemrograman Python\n",
      "hello !\n"
     ]
    }
   ],
   "source": [
    "print (\"Selamat Datang\")\n",
    "print (\"Belajar Bahasa Pemrograman Python\")\n",
    "\n",
    "print (\"hello !\")"
   ]
  },
  {
   "cell_type": "code",
   "execution_count": 9,
   "metadata": {},
   "outputs": [
    {
     "name": "stdout",
     "output_type": "stream",
     "text": [
      "Selamat Datang\n",
      "Selamat Datang\n",
      "Selamat Datang\n",
      "Selamat Datang\n",
      "Selamat Datang\n",
      "Selamat Datang\n",
      "Selamat Datang\n",
      "Selamat Datang\n"
     ]
    }
   ],
   "source": [
    "print('Selamat Datang')\n",
    "print(\"Selamat Datang\")\n",
    "print('Selamat Datang')\n",
    "print(\"Selamat Datang\")\n",
    "print('Selamat Datang')\n",
    "print(\"Selamat Datang\")\n",
    "print('Selamat Datang')\n",
    "print(\"Selamat Datang\")"
   ]
  },
  {
   "cell_type": "code",
   "execution_count": 10,
   "metadata": {},
   "outputs": [
    {
     "name": "stdout",
     "output_type": "stream",
     "text": [
      "Selamat Datang di SMK Wikrama 2 Bogor\n",
      "Hasil dari 1 + 2 = 3\n",
      "Selamat Datang di SMK Wikrama 2\n",
      "7\n",
      "7.0\n",
      "14.0\n",
      "-----------operator----------\n",
      "12\n",
      "24\n",
      "1.6\n",
      "13\n",
      "4\n",
      "1\n",
      "-----------operator menggunakan variabel----------\n",
      "11\n",
      "30\n",
      "1\n",
      "0.8333333333333334\n",
      "-----------pengelompokan operasi----------\n",
      "10\n",
      "16\n",
      "10.0\n",
      "----pembulatan----\n",
      "14\n",
      "18\n",
      "---------tipe data string---------\n",
      "SMK Wikrama Bogor\n",
      "SMK Wikrama Bogor\n",
      "doesn't\n",
      "doesn't\n",
      "i cant wait\n",
      "i can't wait\n",
      "i can't wait\n",
      "SMK Wikrama Bogor\n",
      "Jl. Raya Wangun Kel. Sindangsari\n",
      "Kec. Bogor Timur Kota Bogor\n",
      "---menggabungkan string menggunakan (+)---\n",
      "SMKWikramaBogor\n",
      "SMK Wikrama Bogor\n",
      "SMK Wikrama Bogor\n",
      "---menggabungkan angka menggunakan (+)---\n",
      "6\n",
      "123\n",
      "1+2+3\n",
      "1+2+3=6\n",
      "---Array/List/Larik---\n",
      "1\n",
      "2\n",
      "3\n",
      "4\n",
      "5\n",
      "1 2 3 4 5\n",
      "Wikrama 1 Bogor\n",
      "--menghitung jumlah elemen pada array--\n",
      "jumlah elemen pada array adalah 3\n"
     ]
    }
   ],
   "source": [
    "#BELAJAR PYTHON\n",
    "\"\"\"BELAJAR PYTHON\"\"\"\n",
    "\n",
    "\n",
    "\n",
    "a = 1\n",
    "b = 2\n",
    "c = 'Selamat Datang di'\n",
    "d = \"SMK Wikrama\"\n",
    "e = \"Bogor\"\n",
    "\n",
    "#Selamat Datang di SMK Wikrama 2 Bogor\n",
    "print(c, d, b, e)\n",
    "#Hasil dari 1+2=3\n",
    "\n",
    "print(\"Hasil dari\", a, \"+\",  b, \"=\", a+b)\n",
    "\n",
    "\n",
    "\n",
    "\n",
    "\n",
    "\n",
    "\n",
    "\n",
    "\n",
    "\n",
    "\n",
    "\n",
    "\n",
    "\n",
    "\n",
    "print(c, d, a*b)\n",
    "\n",
    "\n",
    "\n",
    "\n",
    "\n",
    "\n",
    "#tipe data bilangan (bulat/integer dan float)\n",
    "#bulat/integer\n",
    "x = 7\n",
    "print(x)\n",
    "\n",
    "y = 7.0\n",
    "print(y)\n",
    "print(x+y)\n",
    "\n",
    "\n",
    "#operator\n",
    "print(\"-----------operator----------\")\n",
    "print(10+2)\n",
    "print(12*2)\n",
    "print(8/5)\n",
    "print(14-1)\n",
    "print(2**2)\n",
    "print(5%2)\n",
    "\n",
    "print(\"-----------operator menggunakan variabel----------\")\n",
    "a1 = 5\n",
    "a2 = 6\n",
    "print(a1+a2)\n",
    "print(a1*a2)\n",
    "print(a2-a1)\n",
    "print(a1/a2)\n",
    "\n",
    "\n",
    "\n",
    "\n",
    "print(\"-----------pengelompokan operasi----------\")\n",
    "print(2+2*4) #operasi perkalian akan di lakukan terlebih dahulu 10\n",
    "print((2+2)*4) #tanda kurung menandakan operasi yang didahulukan\n",
    "print((4/2)*5)\n",
    "\n",
    "\n",
    "\n",
    "\n",
    "\n",
    "\n",
    "print(\"----pembulatan----\")\n",
    "b1 = 14.8\n",
    "b2 = 18.4\n",
    "print(int (b1))  #int pembulatan ke bawah\n",
    "print(round(b2)) #round pembulatan ke atas jika > 5, ke bawah jika <= 5\n",
    "\n",
    "\n",
    "\n",
    "\n",
    "\n",
    "print(\"---------tipe data string---------\")\n",
    "print('SMK Wikrama Bogor') #string menggunakan kutip 1 atau kutip 2\n",
    "print(\"SMK Wikrama Bogor\")\n",
    "\n",
    "\n",
    "\n",
    "\n",
    "\n",
    "\n",
    "\n",
    "print(\"doesn't\")\n",
    "print('doesn\\'t')\n",
    "print('i cant wait')\n",
    "print('i can\\'t wait')\n",
    "print(\"i can't wait\")\n",
    "\n",
    "\n",
    "\n",
    "\n",
    "\n",
    "\n",
    "\n",
    "\n",
    "print(\"\"\"SMK Wikrama Bogor\n",
    "Jl. Raya Wangun Kel. Sindangsari\n",
    "Kec. Bogor Timur Kota Bogor\"\"\")   #kutip 3 bisa digunakan untuk string untuk kondisi beberapa baris\n",
    "\n",
    "#print(\"SMK Wikrama Bogor\n",
    "#Jl. Raya Wangun Kel. Sindangsari\n",
    "#Kec. Bogor Timur Kota Bogor\")\n",
    "\n",
    "\n",
    "\n",
    "print(\"---menggabungkan string menggunakan (+)---\")\n",
    "c1 = \"SMK\"\n",
    "c2 = \"Wikrama\"\n",
    "c3 = \"Bogor\"\n",
    "c4 = c1+c2+c3\n",
    "c5 = c1+' '+c2+' '+c3\n",
    "print(c4)\n",
    "print(c5)\n",
    "print(c1+' '+c2+' '+c3)\n",
    "\n",
    "\n",
    "\n",
    "\n",
    "\n",
    "\n",
    "\n",
    "print(\"---menggabungkan angka menggunakan (+)---\")\n",
    "d1 = 1\n",
    "d2 = 2\n",
    "d3 = 3\n",
    "d4 = d1+d2+d3\n",
    "\n",
    "print(d4)\n",
    "print(str(d1)+str(d2)+str(d3))\n",
    "print(str(d1)+'+'+str(d2)+'+'+str(d3))\n",
    "print(str(d1)+'+'+str(d2)+'+'+str(d3)+'='+str(d4))\n",
    "\n",
    "print(\"---Array/List/Larik---\")\n",
    "a = [1,2,3,4,5]\n",
    "print(a[0])\n",
    "print(a[1])\n",
    "print(a[2])\n",
    "print(a[3])\n",
    "print(a[4])\n",
    "print(a[0],a[1],a[2],a[3],a[4])\n",
    "\n",
    "e1 = ['Wikrama', 1, 'Bogor']\n",
    "print(e1[0], e1[1], e1[2])\n",
    "\n",
    "print(\"--menghitung jumlah elemen pada array--\")\n",
    "print(\"jumlah elemen pada array adalah\", len(e1))\n"
   ]
  },
  {
   "cell_type": "code",
   "execution_count": 11,
   "metadata": {},
   "outputs": [
    {
     "name": "stdout",
     "output_type": "stream",
     "text": [
      "9\n",
      "14\n",
      "5\n",
      "3.5\n",
      "1\n",
      "49\n"
     ]
    }
   ],
   "source": [
    "#OPERATOR ARITMATIKA\n",
    "a = 7\n",
    "b = 2\n",
    "print(a+b) #hasilnya 9\n",
    "print(a*b) #hasilnya 14\n",
    "print(a-b) #hasilnya 5\n",
    "print(a/b) #hasilnya 3.5\n",
    "print(a%b) #hasilnya 1\n",
    "print(a**b) #hasilnya 49\n",
    "\n",
    "\n",
    "\n",
    "\n",
    "\n",
    "\n",
    "\n",
    "\n",
    "\n",
    "\n",
    "\n",
    "\n",
    "\n",
    "\n",
    "\n",
    "#a = 1\n",
    "#b = \"saya\"\n",
    "#c = \"juara\"\n",
    "#print(b, c, a)\n",
    "\n",
    "#d = \"saya\"\n",
    "#e = \"mendapat\"\n",
    "#f = \"nilai\"\n",
    "#g = 50\n",
    "#h = \"0,5\"\n",
    "\n",
    "#print(d, e, f, h)"
   ]
  },
  {
   "cell_type": "code",
   "execution_count": 12,
   "metadata": {},
   "outputs": [
    {
     "name": "stdout",
     "output_type": "stream",
     "text": [
      "Diameter 1 : 1\n",
      "Diameter 2 : 2\n",
      "Sisi : 3\n",
      "Luas =  1.0\n",
      "Keliling =  12\n"
     ]
    }
   ],
   "source": [
    "d1 = int(input(\"Diameter 1 : \"))\n",
    "d2 = int(input(\"Diameter 2 : \"))\n",
    "sisi = int(input(\"Sisi : \"))\n",
    "\n",
    "luas = (d1*d2)/2\n",
    "keliling = 4 * sisi\n",
    "\n",
    "print(\"Luas = \", luas)\n",
    "print(\"Keliling = \", keliling)"
   ]
  },
  {
   "cell_type": "code",
   "execution_count": 13,
   "metadata": {},
   "outputs": [
    {
     "name": "stdout",
     "output_type": "stream",
     "text": [
      "Masukkan Angka Pertama : 1\n",
      "Masukkan Angka Kedua : 1\n",
      "jumlah 1+1 adalah 2.0\n"
     ]
    }
   ],
   "source": [
    "bil1 = input(\"Masukkan Angka Pertama : \")\n",
    "bil2 = input(\"Masukkan Angka Kedua : \")\n",
    "\n",
    "jumlah = float(bil1)+float(bil2)\n",
    "\n",
    "print('jumlah {0}+{1} adalah {2}'.format(bil1, bil2, jumlah))"
   ]
  },
  {
   "cell_type": "code",
   "execution_count": 14,
   "metadata": {},
   "outputs": [
    {
     "name": "stdout",
     "output_type": "stream",
     "text": [
      "Panjang : 1\n",
      "Lebar : 1\n",
      "Tinggi : 1\n",
      "Luas =  1\n",
      "Keliling =  4\n"
     ]
    }
   ],
   "source": [
    "panjang = int(input(\"Panjang : \"))\n",
    "lebar = int(input(\"Lebar : \"))\n",
    "tinggi = int(input(\"Tinggi : \"))\n",
    "\n",
    "luas = lebar*tinggi\n",
    "keliling = (2*panjang) + (2*lebar)\n",
    "\n",
    "print(\"Luas = \", luas)\n",
    "print(\"Keliling = \", keliling)"
   ]
  },
  {
   "cell_type": "code",
   "execution_count": 15,
   "metadata": {},
   "outputs": [
    {
     "ename": "SyntaxError",
     "evalue": "invalid character in identifier (<ipython-input-15-2c71fbcc0f46>, line 11)",
     "output_type": "error",
     "traceback": [
      "\u001b[1;36m  File \u001b[1;32m\"<ipython-input-15-2c71fbcc0f46>\"\u001b[1;36m, line \u001b[1;32m11\u001b[0m\n\u001b[1;33m    © 2019 GitHub, Inc.\u001b[0m\n\u001b[1;37m    ^\u001b[0m\n\u001b[1;31mSyntaxError\u001b[0m\u001b[1;31m:\u001b[0m invalid character in identifier\n"
     ]
    }
   ],
   "source": [
    "panjang = int(input(\"Panjang : \"))\n",
    "lebar = int(input(\"Lebar : \"))\n",
    "d1 = int(input(\"Diameter 1 : \"))\n",
    "d2 = int(input(\"Diameter 2 : \"))\n",
    "\n",
    "luas = (d1*d2)/2\n",
    "keliling = (2*panjang) + (2*lebar)\n",
    "\n",
    "print(\"Luar = \", luas)\n",
    "print(\"Keliling = \", keliling)\n",
    "© 2019 GitHub, Inc."
   ]
  },
  {
   "cell_type": "code",
   "execution_count": 16,
   "metadata": {},
   "outputs": [
    {
     "name": "stdout",
     "output_type": "stream",
     "text": [
      "Panjang : 2\n",
      "Lebar : 3\n",
      "Diameter 1 : 4\n",
      "Diameter 2 : 5\n",
      "Luar =  10.0\n",
      "Keliling =  10\n"
     ]
    }
   ],
   "source": [
    "panjang = int(input(\"Panjang : \"))\n",
    "lebar = int(input(\"Lebar : \"))\n",
    "d1 = int(input(\"Diameter 1 : \"))\n",
    "d2 = int(input(\"Diameter 2 : \"))\n",
    "\n",
    "luas = (d1*d2)/2\n",
    "keliling = (2*panjang) + (2*lebar)\n",
    "\n",
    "print(\"Luar = \", luas)\n",
    "print(\"Keliling = \", keliling)"
   ]
  },
  {
   "cell_type": "code",
   "execution_count": 17,
   "metadata": {},
   "outputs": [
    {
     "name": "stdout",
     "output_type": "stream",
     "text": [
      "Jari-jari : 2\n",
      "Diameter : 3\n",
      "Luas =  39.4384\n",
      "Keliling =  12.56\n"
     ]
    }
   ],
   "source": [
    "jari = int(input(\"Jari-jari : \"))\n",
    "diameter = int(input(\"Diameter : \"))\n",
    "\n",
    "print(\"Luas = \", (3.14*jari)**2)\n",
    "print(\"Keliling = \", 2*3.14*jari)"
   ]
  },
  {
   "cell_type": "code",
   "execution_count": 18,
   "metadata": {},
   "outputs": [
    {
     "name": "stdout",
     "output_type": "stream",
     "text": [
      "Masukkan Sisi : 3\n",
      "Luas Persegi =  9\n",
      "Luas Persegi =  12\n"
     ]
    }
   ],
   "source": [
    "sisi = int(input(\"Masukkan Sisi : \"))\n",
    "\n",
    "luas = sisi*sisi\n",
    "keliling = 4*sisi\n",
    "\n",
    "print(\"Luas Persegi = \", luas)\n",
    "print(\"Luas Persegi = \", keliling)"
   ]
  },
  {
   "cell_type": "code",
   "execution_count": 19,
   "metadata": {},
   "outputs": [
    {
     "name": "stdout",
     "output_type": "stream",
     "text": [
      "Panjang : 4\n",
      "Lebar : 55\n",
      "Luas :  220\n",
      "Keliling 118\n"
     ]
    }
   ],
   "source": [
    "panjang = int(input(\"Panjang : \"))\n",
    "lebar = int(input(\"Lebar : \"))\n",
    "\n",
    "luas = panjang*lebar\n",
    "keliling = (2*panjang) + (2*lebar)\n",
    "\n",
    "print(\"Luas : \", luas)\n",
    "print(\"Keliling\", keliling)"
   ]
  },
  {
   "cell_type": "code",
   "execution_count": 20,
   "metadata": {},
   "outputs": [
    {
     "name": "stdout",
     "output_type": "stream",
     "text": [
      "Alas : 3\n",
      "Tinggi : 4\n",
      "Lebar : 5\n",
      "Luas Segitiga Adalah :  6.0\n",
      "Keliling Segitiga Adalah :  12\n"
     ]
    }
   ],
   "source": [
    "alas = int(input(\"Alas : \"))\n",
    "tinggi = int(input(\"Tinggi : \"))\n",
    "lebar = int(input(\"Lebar : \"))\n",
    "\n",
    "keliling = alas+tinggi+lebar\n",
    "luas = (alas*tinggi)/2\n",
    "\n",
    "print(\"Luas Segitiga Adalah : \", luas)\n",
    "print(\"Keliling Segitiga Adalah : \", keliling)"
   ]
  },
  {
   "cell_type": "code",
   "execution_count": 25,
   "metadata": {},
   "outputs": [
    {
     "name": "stdout",
     "output_type": "stream",
     "text": [
      "Sisi 1 : 2\n",
      "Sisi 2 : 2\n",
      "Sisi 3 : 2\n",
      "Tinggi : 2\n",
      "Luas =  4.0\n",
      "Keliling = 8\n"
     ]
    }
   ],
   "source": [
    "sisi1 = int(input(\"Sisi 1 : \"))\n",
    "sisi2 = int(input(\"Sisi 2 : \"))\n",
    "sisi3 = int(input(\"Sisi 3 : \"))\n",
    "tinggi = int(input(\"Tinggi : \"))\n",
    "\n",
    "luas = (sisi1+sisi2) * tinggi / 2\n",
    "keliling = sisi1+sisi2+sisi3+tinggi\n",
    "\n",
    "print(\"Luas = \", luas)\n",
    "print(\"Keliling =\", keliling)"
   ]
  },
  {
   "cell_type": "code",
   "execution_count": 32,
   "metadata": {},
   "outputs": [
    {
     "name": "stdout",
     "output_type": "stream",
     "text": [
      "Panjang : 2\n",
      "Lebar : 2\n",
      "Tinggi : 2\n",
      "Luas: 24\n"
     ]
    }
   ],
   "source": [
    "panjang = int(input(\"Panjang : \"))\n",
    "lebar = int(input(\"Lebar : \"))\n",
    "tinggi = int(input(\"Tinggi : \"))\n",
    "L = 2 * (panjang*lebar+panjang*tinggi+lebar*tinggi)\n",
    "print(\"Luas:\",L)"
   ]
  },
  {
   "cell_type": "code",
   "execution_count": 30,
   "metadata": {},
   "outputs": [
    {
     "name": "stdout",
     "output_type": "stream",
     "text": [
      "Rusuk  : 2\n",
      "Luas =  24\n",
      "volume =  8\n"
     ]
    }
   ],
   "source": [
    "rusuk = int(input(\"Rusuk  : \"))\n",
    "\n",
    "print(\"Luas = \", 6*(rusuk**2))\n",
    "print(\"volume = \", rusuk*rusuk*rusuk)"
   ]
  },
  {
   "cell_type": "code",
   "execution_count": null,
   "metadata": {},
   "outputs": [],
   "source": []
  }
 ],
 "metadata": {
  "kernelspec": {
   "display_name": "Python 3",
   "language": "python",
   "name": "python3"
  },
  "language_info": {
   "codemirror_mode": {
    "name": "ipython",
    "version": 3
   },
   "file_extension": ".py",
   "mimetype": "text/x-python",
   "name": "python",
   "nbconvert_exporter": "python",
   "pygments_lexer": "ipython3",
   "version": "3.7.3"
  }
 },
 "nbformat": 4,
 "nbformat_minor": 2
}
